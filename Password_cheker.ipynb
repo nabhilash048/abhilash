{
  "nbformat": 4,
  "nbformat_minor": 0,
  "metadata": {
    "colab": {
      "provenance": [],
      "authorship_tag": "ABX9TyNtujsFKXsEkkQt4J/DDy9S",
      "include_colab_link": true
    },
    "kernelspec": {
      "name": "python3",
      "display_name": "Python 3"
    },
    "language_info": {
      "name": "python"
    }
  },
  "cells": [
    {
      "cell_type": "markdown",
      "metadata": {
        "id": "view-in-github",
        "colab_type": "text"
      },
      "source": [
        "<a href=\"https://colab.research.google.com/github/nabhilash048/abhilash/blob/main/Password_cheker.ipynb\" target=\"_parent\"><img src=\"https://colab.research.google.com/assets/colab-badge.svg\" alt=\"Open In Colab\"/></a>"
      ]
    },
    {
      "cell_type": "code",
      "execution_count": null,
      "metadata": {
        "colab": {
          "base_uri": "https://localhost:8080/"
        },
        "id": "rMhYKKqaZNMV",
        "outputId": "38a48892-9f22-4a9a-9be7-41bb40562189"
      },
      "outputs": [
        {
          "output_type": "stream",
          "name": "stdout",
          "text": [
            "True\n",
            "False\n",
            "True\n"
          ]
        }
      ],
      "source": [
        "val='rama'\n",
        "print(val.isalpha())\n",
        "print(val.isnumeric())\n",
        "print(val.isalnum())"
      ]
    },
    {
      "cell_type": "code",
      "source": [
        "password=input(\"enter the password:\")\n",
        "if len(password)>=8 and len(password)<=13:\n",
        "  em =[]\n",
        "  num=[]\n",
        "  spl=[]\n",
        "  for i in password:\n",
        "    if i.isnumeric():\n",
        "     num.append(i)\n",
        "    elif i.isalpha():\n",
        "      em.append(i)\n",
        "    else :\n",
        "      spl.append(i)\n",
        "  if len(em)>=4 and len(num)>4 and len(spl)>=1:\n",
        "    print(\"password is valid\")\n",
        "  else:\n",
        "   print(\"password is invalid\")\n",
        "else:\n",
        "  print(\"password  length is invalid\")\n"
      ],
      "metadata": {
        "id": "hFCtjZMUaww_",
        "colab": {
          "base_uri": "https://localhost:8080/"
        },
        "outputId": "6f49c2e3-fdb2-45e8-dff5-2aa680100e4e"
      },
      "execution_count": 5,
      "outputs": [
        {
          "output_type": "stream",
          "name": "stdout",
          "text": [
            "enter the password:Lenhyt870937qor738oeuw#\n",
            "password  length is invalid\n"
          ]
        }
      ]
    }
  ]
}